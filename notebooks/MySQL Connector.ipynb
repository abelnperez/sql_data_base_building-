{
 "cells": [
  {
   "cell_type": "code",
   "execution_count": 1,
   "metadata": {},
   "outputs": [
    {
     "name": "stdout",
     "output_type": "stream",
     "text": [
      "Requirement already satisfied: mysql-connector-python in c:\\users\\abeln\\appdata\\local\\anaconda3\\envs\\env1\\lib\\site-packages (8.2.0)\n",
      "Requirement already satisfied: protobuf<=4.21.12,>=4.21.1 in c:\\users\\abeln\\appdata\\local\\anaconda3\\envs\\env1\\lib\\site-packages (from mysql-connector-python) (4.21.12)\n",
      "Note: you may need to restart the kernel to use updated packages.\n"
     ]
    }
   ],
   "source": [
    "\n",
    "%pip install mysql-connector-python"
   ]
  },
  {
   "cell_type": "code",
   "execution_count": 2,
   "metadata": {},
   "outputs": [],
   "source": [
    "import mysql.connector as conn"
   ]
  },
  {
   "cell_type": "code",
   "execution_count": 3,
   "metadata": {},
   "outputs": [
    {
     "data": {
      "text/plain": [
       "<mysql.connector.cursor_cext.CMySQLCursor at 0x2436aa1e4d0>"
      ]
     },
     "execution_count": 3,
     "metadata": {},
     "output_type": "execute_result"
    }
   ],
   "source": [
    "# conexion al servisor para crear una nueva base de datos vacia\n",
    "\n",
    "conexion = conn.connect(host='localhost',  # 127.0.0.1\n",
    "                       user='root',        # usuario\n",
    "                       passwd='a1b2e3l4_IRONHACK'   # pass de SQL\n",
    "                       )\n",
    "\n",
    "\n",
    "\n",
    "cursor = conexion.cursor()\n",
    "\n",
    "\n",
    "cursor"
   ]
  },
  {
   "cell_type": "code",
   "execution_count": 4,
   "metadata": {},
   "outputs": [],
   "source": [
    "cursor.execute('create database movies;')    # crea db"
   ]
  },
  {
   "cell_type": "code",
   "execution_count": 5,
   "metadata": {},
   "outputs": [],
   "source": [
    "conexion = conn.connect(host='localhost',  # 127.0.0.1\n",
    "                       user='root',        # usuario\n",
    "                       passwd='a1b2e3l4_IRONHACK',  # pass de SQL\n",
    "                       database='movies'\n",
    "                       )\n",
    "\n",
    "\n",
    "\n",
    "cursor = conexion.cursor()"
   ]
  },
  {
   "cell_type": "code",
   "execution_count": 6,
   "metadata": {},
   "outputs": [
    {
     "data": {
      "text/plain": [
       "<bound method CMySQLCursor.execute of <mysql.connector.cursor_cext.CMySQLCursor object at 0x000002436B12E4D0>>"
      ]
     },
     "execution_count": 6,
     "metadata": {},
     "output_type": "execute_result"
    }
   ],
   "source": [
    "c = cursor.execute\n",
    "\n",
    "c"
   ]
  },
  {
   "cell_type": "code",
   "execution_count": 7,
   "metadata": {},
   "outputs": [],
   "source": [
    "# check\n",
    "\n",
    "cursor.execute('show tables;')\n",
    "\n",
    "for e in cursor:\n",
    "    print(e)"
   ]
  },
  {
   "cell_type": "code",
   "execution_count": 8,
   "metadata": {},
   "outputs": [
    {
     "ename": "NameError",
     "evalue": "name 'movies' is not defined",
     "output_type": "error",
     "traceback": [
      "\u001b[1;31m---------------------------------------------------------------------------\u001b[0m",
      "\u001b[1;31mNameError\u001b[0m                                 Traceback (most recent call last)",
      "\u001b[1;32mc:\\Users\\abeln\\Desktop\\Ironhack_clase\\Projects\\sql_data_base_building-\\MySQL Connector.ipynb Cell 8\u001b[0m line \u001b[0;36m1\n\u001b[1;32m----> <a href='vscode-notebook-cell:/c%3A/Users/abeln/Desktop/Ironhack_clase/Projects/sql_data_base_building-/MySQL%20Connector.ipynb#X10sZmlsZQ%3D%3D?line=0'>1</a>\u001b[0m movies\u001b[39m.\u001b[39mto_sql(name\u001b[39m=\u001b[39m\u001b[39m'\u001b[39m\u001b[39mratings\u001b[39m\u001b[39m'\u001b[39m,      \u001b[39m# nombre de la tabla\u001b[39;00m\n\u001b[0;32m      <a href='vscode-notebook-cell:/c%3A/Users/abeln/Desktop/Ironhack_clase/Projects/sql_data_base_building-/MySQL%20Connector.ipynb#X10sZmlsZQ%3D%3D?line=1'>2</a>\u001b[0m             con\u001b[39m=\u001b[39mcursor,          \u001b[39m# conexion al servidor\u001b[39;00m\n\u001b[0;32m      <a href='vscode-notebook-cell:/c%3A/Users/abeln/Desktop/Ironhack_clase/Projects/sql_data_base_building-/MySQL%20Connector.ipynb#X10sZmlsZQ%3D%3D?line=2'>3</a>\u001b[0m             if_exists\u001b[39m=\u001b[39m\u001b[39m'\u001b[39m\u001b[39mreplace\u001b[39m\u001b[39m'\u001b[39m,  \u001b[39m# reemplaza la tabla si existe\u001b[39;00m\n\u001b[0;32m      <a href='vscode-notebook-cell:/c%3A/Users/abeln/Desktop/Ironhack_clase/Projects/sql_data_base_building-/MySQL%20Connector.ipynb#X10sZmlsZQ%3D%3D?line=3'>4</a>\u001b[0m             index\u001b[39m=\u001b[39m\u001b[39mTrue\u001b[39;00m\n\u001b[0;32m      <a href='vscode-notebook-cell:/c%3A/Users/abeln/Desktop/Ironhack_clase/Projects/sql_data_base_building-/MySQL%20Connector.ipynb#X10sZmlsZQ%3D%3D?line=4'>5</a>\u001b[0m            )\n",
      "\u001b[1;31mNameError\u001b[0m: name 'movies' is not defined"
     ]
    }
   ],
   "source": [
    "movies.to_sql(name='ratings',      # nombre de la tabla\n",
    "            con=cursor,          # conexion al servidor\n",
    "            if_exists='replace',  # reemplaza la tabla si existe\n",
    "            index=True\n",
    "           )"
   ]
  }
 ],
 "metadata": {
  "kernelspec": {
   "display_name": "env1",
   "language": "python",
   "name": "python3"
  },
  "language_info": {
   "codemirror_mode": {
    "name": "ipython",
    "version": 3
   },
   "file_extension": ".py",
   "mimetype": "text/x-python",
   "name": "python",
   "nbconvert_exporter": "python",
   "pygments_lexer": "ipython3",
   "version": "3.11.5"
  }
 },
 "nbformat": 4,
 "nbformat_minor": 2
}
